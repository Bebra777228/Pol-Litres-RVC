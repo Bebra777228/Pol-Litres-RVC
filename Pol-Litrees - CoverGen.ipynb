{
  "cells": [
    {
      "cell_type": "markdown",
      "metadata": {
        "id": "view-in-github",
        "colab_type": "text"
      },
      "source": [
        "<a href=\"https://colab.research.google.com/github/Bebra777228/Pol-Litres-RVC/blob/CoverGen/Pol-Litrees%20-%20CoverGen.ipynb\" target=\"_parent\"><img src=\"https://colab.research.google.com/assets/colab-badge.svg\" alt=\"Open In Colab\"/></a>"
      ]
    },
    {
      "cell_type": "markdown",
      "source": [
        "---\n",
        "\n",
        "<center>\n",
        "\n",
        "**<font color='#FF8C00'> _Буду рад любой копеечке)_</font>**\n",
        "\n",
        "<a href=\"https://www.donationalerts.com/r/politrees\">\n",
        "  <img src=\"https://www.donationalerts.com/img/brand/donationalerts.svg\" width=\"200\" alt=\"Donationalerts\">\n",
        "</a>\n",
        "\n",
        "---"
      ],
      "metadata": {
        "id": "QmU_paPbOqhW"
      }
    },
    {
      "cell_type": "markdown",
      "metadata": {
        "id": "9u96NcJEwi03"
      },
      "source": [
        "# **CoverGen**"
      ]
    },
    {
      "cell_type": "code",
      "execution_count": null,
      "metadata": {
        "cellView": "form",
        "id": "MAdyjmA7wMu2"
      },
      "outputs": [],
      "source": [
        "#@title <big> ⬇️ **Установка** <small><small><small> _установка 5-10 минут_\n",
        "\n",
        "from IPython.display import clear_output\n",
        "from ipywidgets import Button\n",
        "\n",
        "!git clone -b CoverGen https://github.com/Bebra777228/Pol-Litres-RVC /content/CoverGen &> /dev/null\n",
        "%cd /content/CoverGenn\n",
        "\n",
        "!pip install -qq -r covergen-requirements.txt\n",
        "\n",
        "!python -m pip install ort-nightly-gpu --index-url=https://aiinfra.pkgs.visualstudio.com/PublicPackages/_packaging/ort-cuda-12-nightly/pypi/simple/\n",
        "!sudo apt update\n",
        "!sudo apt install sox\n",
        "\n",
        "!python src/download_models.py\n",
        "\n",
        "!rm -r /content/sample_data/\n",
        "\n",
        "clear_output()\n",
        "Button(description=\"\\u2714 Готово!\", button_style=\"success\")"
      ]
    },
    {
      "cell_type": "code",
      "execution_count": null,
      "metadata": {
        "cellView": "form",
        "colab": {
          "background_save": true
        },
        "id": "iNHKsxSEwuP4"
      },
      "outputs": [],
      "source": [
        "#@title <big> ⬇️ **Запуск интерфейса**\n",
        "\n",
        "print(\"Запуск CoverGen интерфейса...\")\n",
        "!python src/CoverGen.py"
      ]
    }
  ],
  "metadata": {
    "accelerator": "GPU",
    "colab": {
      "gpuType": "T4",
      "provenance": [],
      "authorship_tag": "ABX9TyPWdwZpd1szLhOT3BfKj1Cf",
      "include_colab_link": true
    },
    "kernelspec": {
      "display_name": "Python 3",
      "name": "python3"
    },
    "language_info": {
      "name": "python"
    }
  },
  "nbformat": 4,
  "nbformat_minor": 0
}